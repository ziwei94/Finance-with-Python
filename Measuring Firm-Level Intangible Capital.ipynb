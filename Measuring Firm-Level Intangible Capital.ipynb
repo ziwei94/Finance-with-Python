{
 "cells": [
  {
   "cell_type": "code",
   "execution_count": 2,
   "id": "initial_id",
   "metadata": {
    "collapsed": true,
    "ExecuteTime": {
     "end_time": "2024-03-14T15:53:13.745886100Z",
     "start_time": "2024-03-14T15:53:13.722538800Z"
    }
   },
   "outputs": [],
   "source": [
    "import numpy as np\n",
    "import pandas as pd\n",
    "\n",
    "pd.set_option('display.max_columns', None)"
   ]
  },
  {
   "cell_type": "code",
   "execution_count": 3,
   "outputs": [
    {
     "data": {
      "text/plain": "         permno     date       ret          prc   shrout  mktrf   smb   hml  \\\n0         10000   1986m2 -0.257143     3.250000     3680   7.13 -0.71 -0.77   \n1         10000   1986m3  0.365385     4.437500     3680   4.88 -0.65 -0.37   \n2         10000   1986m4 -0.098592     4.000000     3793  -1.31  2.86 -2.86   \n3         10000   1986m5 -0.222656     3.109375     3793   4.62 -1.29 -0.21   \n4         10000   1986m6 -0.005025     3.093750     3793   1.03 -0.88  1.30   \n...         ...      ...       ...          ...      ...    ...   ...   ...   \n3057775   93436   2021m8  0.070605   735.719971  1001767   2.90 -0.79 -0.13   \n3057776   93436   2021m9  0.054042   775.479980  1004000  -4.37  1.25  5.09   \n3057777   93436  2021m10  0.436530  1114.000000  1004265   6.65 -2.69 -0.44   \n3057778   93436  2021m11  0.027612  1144.760010  1004265  -1.55 -1.74 -0.53   \n3057779   93436  2021m12 -0.076855  1056.780029  1033534   3.10 -0.68  3.23   \n\n          rmw   cma    rf   mom                     comnam  year  month  \n0        1.09 -1.24  0.53  2.76  OPTIMUM MANUFACTURING INC  1986      2  \n1        1.18  0.90  0.60  2.41  OPTIMUM MANUFACTURING INC  1986      3  \n2        2.89 -0.06  0.52 -0.36  OPTIMUM MANUFACTURING INC  1986      4  \n3        2.15  1.08  0.49  2.05  OPTIMUM MANUFACTURING INC  1986      5  \n4        1.83  0.82  0.52  5.07  OPTIMUM MANUFACTURING INC  1986      6  \n...       ...   ...   ...   ...                        ...   ...    ...  \n3057775 -0.26 -1.67  0.00  2.52                  TESLA INC  2021      8  \n3057776 -1.94  2.08  0.00  1.57                  TESLA INC  2021      9  \n3057777  1.74 -1.48  0.00  3.21                  TESLA INC  2021     10  \n3057778  7.38  1.60  0.00  0.82                  TESLA INC  2021     11  \n3057779  4.75  4.37  0.01 -2.67                  TESLA INC  2021     12  \n\n[3057780 rows x 15 columns]",
      "text/html": "<div>\n<style scoped>\n    .dataframe tbody tr th:only-of-type {\n        vertical-align: middle;\n    }\n\n    .dataframe tbody tr th {\n        vertical-align: top;\n    }\n\n    .dataframe thead th {\n        text-align: right;\n    }\n</style>\n<table border=\"1\" class=\"dataframe\">\n  <thead>\n    <tr style=\"text-align: right;\">\n      <th></th>\n      <th>permno</th>\n      <th>date</th>\n      <th>ret</th>\n      <th>prc</th>\n      <th>shrout</th>\n      <th>mktrf</th>\n      <th>smb</th>\n      <th>hml</th>\n      <th>rmw</th>\n      <th>cma</th>\n      <th>rf</th>\n      <th>mom</th>\n      <th>comnam</th>\n      <th>year</th>\n      <th>month</th>\n    </tr>\n  </thead>\n  <tbody>\n    <tr>\n      <th>0</th>\n      <td>10000</td>\n      <td>1986m2</td>\n      <td>-0.257143</td>\n      <td>3.250000</td>\n      <td>3680</td>\n      <td>7.13</td>\n      <td>-0.71</td>\n      <td>-0.77</td>\n      <td>1.09</td>\n      <td>-1.24</td>\n      <td>0.53</td>\n      <td>2.76</td>\n      <td>OPTIMUM MANUFACTURING INC</td>\n      <td>1986</td>\n      <td>2</td>\n    </tr>\n    <tr>\n      <th>1</th>\n      <td>10000</td>\n      <td>1986m3</td>\n      <td>0.365385</td>\n      <td>4.437500</td>\n      <td>3680</td>\n      <td>4.88</td>\n      <td>-0.65</td>\n      <td>-0.37</td>\n      <td>1.18</td>\n      <td>0.90</td>\n      <td>0.60</td>\n      <td>2.41</td>\n      <td>OPTIMUM MANUFACTURING INC</td>\n      <td>1986</td>\n      <td>3</td>\n    </tr>\n    <tr>\n      <th>2</th>\n      <td>10000</td>\n      <td>1986m4</td>\n      <td>-0.098592</td>\n      <td>4.000000</td>\n      <td>3793</td>\n      <td>-1.31</td>\n      <td>2.86</td>\n      <td>-2.86</td>\n      <td>2.89</td>\n      <td>-0.06</td>\n      <td>0.52</td>\n      <td>-0.36</td>\n      <td>OPTIMUM MANUFACTURING INC</td>\n      <td>1986</td>\n      <td>4</td>\n    </tr>\n    <tr>\n      <th>3</th>\n      <td>10000</td>\n      <td>1986m5</td>\n      <td>-0.222656</td>\n      <td>3.109375</td>\n      <td>3793</td>\n      <td>4.62</td>\n      <td>-1.29</td>\n      <td>-0.21</td>\n      <td>2.15</td>\n      <td>1.08</td>\n      <td>0.49</td>\n      <td>2.05</td>\n      <td>OPTIMUM MANUFACTURING INC</td>\n      <td>1986</td>\n      <td>5</td>\n    </tr>\n    <tr>\n      <th>4</th>\n      <td>10000</td>\n      <td>1986m6</td>\n      <td>-0.005025</td>\n      <td>3.093750</td>\n      <td>3793</td>\n      <td>1.03</td>\n      <td>-0.88</td>\n      <td>1.30</td>\n      <td>1.83</td>\n      <td>0.82</td>\n      <td>0.52</td>\n      <td>5.07</td>\n      <td>OPTIMUM MANUFACTURING INC</td>\n      <td>1986</td>\n      <td>6</td>\n    </tr>\n    <tr>\n      <th>...</th>\n      <td>...</td>\n      <td>...</td>\n      <td>...</td>\n      <td>...</td>\n      <td>...</td>\n      <td>...</td>\n      <td>...</td>\n      <td>...</td>\n      <td>...</td>\n      <td>...</td>\n      <td>...</td>\n      <td>...</td>\n      <td>...</td>\n      <td>...</td>\n      <td>...</td>\n    </tr>\n    <tr>\n      <th>3057775</th>\n      <td>93436</td>\n      <td>2021m8</td>\n      <td>0.070605</td>\n      <td>735.719971</td>\n      <td>1001767</td>\n      <td>2.90</td>\n      <td>-0.79</td>\n      <td>-0.13</td>\n      <td>-0.26</td>\n      <td>-1.67</td>\n      <td>0.00</td>\n      <td>2.52</td>\n      <td>TESLA INC</td>\n      <td>2021</td>\n      <td>8</td>\n    </tr>\n    <tr>\n      <th>3057776</th>\n      <td>93436</td>\n      <td>2021m9</td>\n      <td>0.054042</td>\n      <td>775.479980</td>\n      <td>1004000</td>\n      <td>-4.37</td>\n      <td>1.25</td>\n      <td>5.09</td>\n      <td>-1.94</td>\n      <td>2.08</td>\n      <td>0.00</td>\n      <td>1.57</td>\n      <td>TESLA INC</td>\n      <td>2021</td>\n      <td>9</td>\n    </tr>\n    <tr>\n      <th>3057777</th>\n      <td>93436</td>\n      <td>2021m10</td>\n      <td>0.436530</td>\n      <td>1114.000000</td>\n      <td>1004265</td>\n      <td>6.65</td>\n      <td>-2.69</td>\n      <td>-0.44</td>\n      <td>1.74</td>\n      <td>-1.48</td>\n      <td>0.00</td>\n      <td>3.21</td>\n      <td>TESLA INC</td>\n      <td>2021</td>\n      <td>10</td>\n    </tr>\n    <tr>\n      <th>3057778</th>\n      <td>93436</td>\n      <td>2021m11</td>\n      <td>0.027612</td>\n      <td>1144.760010</td>\n      <td>1004265</td>\n      <td>-1.55</td>\n      <td>-1.74</td>\n      <td>-0.53</td>\n      <td>7.38</td>\n      <td>1.60</td>\n      <td>0.00</td>\n      <td>0.82</td>\n      <td>TESLA INC</td>\n      <td>2021</td>\n      <td>11</td>\n    </tr>\n    <tr>\n      <th>3057779</th>\n      <td>93436</td>\n      <td>2021m12</td>\n      <td>-0.076855</td>\n      <td>1056.780029</td>\n      <td>1033534</td>\n      <td>3.10</td>\n      <td>-0.68</td>\n      <td>3.23</td>\n      <td>4.75</td>\n      <td>4.37</td>\n      <td>0.01</td>\n      <td>-2.67</td>\n      <td>TESLA INC</td>\n      <td>2021</td>\n      <td>12</td>\n    </tr>\n  </tbody>\n</table>\n<p>3057780 rows × 15 columns</p>\n</div>"
     },
     "execution_count": 3,
     "metadata": {},
     "output_type": "execute_result"
    }
   ],
   "source": [
    "crsp = pd.read_csv(r\"D:/python/crsp_monthly.csv\")\n",
    "crsp"
   ],
   "metadata": {
    "collapsed": false,
    "ExecuteTime": {
     "end_time": "2024-03-14T15:53:26.242279700Z",
     "start_time": "2024-03-14T15:53:22.775211Z"
    }
   },
   "id": "25c70f0ca918bc75"
  },
  {
   "cell_type": "code",
   "execution_count": 4,
   "outputs": [
    {
     "data": {
      "text/plain": "        permno  fyear                          conm      xsga        ceq  \\\n0        10000   1986  OPTIMUM MANUFACTURING  -CL A     1.100      0.418   \n1        10001   1986               GAS NATURAL INC       NaN      5.432   \n2        10001   1987               GAS NATURAL INC       NaN      5.369   \n3        10001   1988               GAS NATURAL INC       NaN      5.512   \n4        10001   1989               GAS NATURAL INC       NaN      6.321   \n...        ...    ...                           ...       ...        ...   \n246547   93436   2017                     TESLA INC  3787.573   4237.242   \n246548   93436   2018                     TESLA INC  4294.861   4923.243   \n246549   93436   2019                     TESLA INC  3989.000   6618.000   \n246550   93436   2020                     TESLA INC  4679.000  22225.000   \n246551   93436   2021                     TESLA INC  7110.000  30189.000   \n\n              ni       cpi  sich            ffind17                 ffind48  \\\n0         -0.730  0.502663  3942  Consumer Durables              Recreation   \n1          0.669  0.502663  4924          Utilities               Utilities   \n2          0.312  0.521083  4924          Utilities               Utilities   \n3          0.564  0.542331  4924          Utilities               Utilities   \n4          1.208  0.568510  4924          Utilities               Utilities   \n...          ...       ...   ...                ...                     ...   \n246547 -1961.400  1.124116  3711        Automobiles  Automobiles and Trucks   \n246548  -976.091  1.151573  3711        Automobiles  Automobiles and Trucks   \n246549  -862.000  1.172442  3711        Automobiles  Automobiles and Trucks   \n246550   721.000  1.186905  3711        Automobiles  Automobiles and Trucks   \n246551  5519.000  1.242664  3711        Automobiles  Automobiles and Trucks   \n\n           gdwl     intan  epspx  epspi   gvkey    tic  fyr        act  \\\n0         0.000     0.252  -0.20  -0.20   13007  OMFGA   10      1.630   \n1         0.000     0.000   0.72   0.72   12994   EGAS    6      2.359   \n2         0.000     0.000   0.32   0.32   12994   EGAS    6      1.870   \n3         0.000     0.000   0.55   0.57   12994   EGAS    6      1.987   \n4         0.000     0.000   1.21   1.21   12994   EGAS    6      3.577   \n...         ...       ...    ...    ...     ...    ...  ...        ...   \n246547   60.237   421.739 -11.83 -11.83  184996   TSLA   12   6570.520   \n246548   68.159   350.651  -5.72  -5.72  184996   TSLA   12   8306.308   \n246549  198.000   537.000  -4.92  -4.92  184996   TSLA   12  12103.000   \n246550  207.000   520.000   0.74   0.74  184996   TSLA   12  26717.000   \n246551  200.000  1717.000   5.60   5.60  184996   TSLA   12  27100.000   \n\n               at      csho      ebit      ppegt       sale      txt     xad  \\\n0           2.115     3.843    -0.686      0.328      1.026    0.000   0.113   \n1          12.242     0.985     1.476     13.021     21.460    0.541     NaN   \n2          11.771     0.991     0.624     13.466     16.621    0.123     NaN   \n3          11.735     0.992     0.984     13.661     16.978    0.272     NaN   \n4          18.565     1.001     2.401     23.476     22.910    0.704     NaN   \n...           ...       ...       ...        ...        ...      ...     ...   \n246547  28655.372   168.797 -1565.086  23168.820  11758.751   31.546  66.500   \n246548  29739.614   172.603  -252.840  23343.447  21461.268   57.837  70.000   \n246549  34309.000   181.000    80.000  25062.000  24578.000  110.000  27.000   \n246550  52148.000   960.000  2184.000  29893.000  31536.000  292.000     NaN   \n246551  62131.000  1033.000  6496.000  39867.000  53823.000  699.000     NaN   \n\n             xrd        cik    ipodate  \n0          0.039        NaN  07may1986  \n1            NaN    43350.0        NaN  \n2            NaN    43350.0        NaN  \n3            NaN    43350.0        NaN  \n4            NaN    43350.0        NaN  \n...          ...        ...        ...  \n246547  1378.073  1318605.0  29jun2010  \n246548  1473.634  1318605.0  29jun2010  \n246549  1390.000  1318605.0  29jun2010  \n246550  1491.000  1318605.0  29jun2010  \n246551  2593.000  1318605.0  29jun2010  \n\n[246552 rows x 28 columns]",
      "text/html": "<div>\n<style scoped>\n    .dataframe tbody tr th:only-of-type {\n        vertical-align: middle;\n    }\n\n    .dataframe tbody tr th {\n        vertical-align: top;\n    }\n\n    .dataframe thead th {\n        text-align: right;\n    }\n</style>\n<table border=\"1\" class=\"dataframe\">\n  <thead>\n    <tr style=\"text-align: right;\">\n      <th></th>\n      <th>permno</th>\n      <th>fyear</th>\n      <th>conm</th>\n      <th>xsga</th>\n      <th>ceq</th>\n      <th>ni</th>\n      <th>cpi</th>\n      <th>sich</th>\n      <th>ffind17</th>\n      <th>ffind48</th>\n      <th>gdwl</th>\n      <th>intan</th>\n      <th>epspx</th>\n      <th>epspi</th>\n      <th>gvkey</th>\n      <th>tic</th>\n      <th>fyr</th>\n      <th>act</th>\n      <th>at</th>\n      <th>csho</th>\n      <th>ebit</th>\n      <th>ppegt</th>\n      <th>sale</th>\n      <th>txt</th>\n      <th>xad</th>\n      <th>xrd</th>\n      <th>cik</th>\n      <th>ipodate</th>\n    </tr>\n  </thead>\n  <tbody>\n    <tr>\n      <th>0</th>\n      <td>10000</td>\n      <td>1986</td>\n      <td>OPTIMUM MANUFACTURING  -CL A</td>\n      <td>1.100</td>\n      <td>0.418</td>\n      <td>-0.730</td>\n      <td>0.502663</td>\n      <td>3942</td>\n      <td>Consumer Durables</td>\n      <td>Recreation</td>\n      <td>0.000</td>\n      <td>0.252</td>\n      <td>-0.20</td>\n      <td>-0.20</td>\n      <td>13007</td>\n      <td>OMFGA</td>\n      <td>10</td>\n      <td>1.630</td>\n      <td>2.115</td>\n      <td>3.843</td>\n      <td>-0.686</td>\n      <td>0.328</td>\n      <td>1.026</td>\n      <td>0.000</td>\n      <td>0.113</td>\n      <td>0.039</td>\n      <td>NaN</td>\n      <td>07may1986</td>\n    </tr>\n    <tr>\n      <th>1</th>\n      <td>10001</td>\n      <td>1986</td>\n      <td>GAS NATURAL INC</td>\n      <td>NaN</td>\n      <td>5.432</td>\n      <td>0.669</td>\n      <td>0.502663</td>\n      <td>4924</td>\n      <td>Utilities</td>\n      <td>Utilities</td>\n      <td>0.000</td>\n      <td>0.000</td>\n      <td>0.72</td>\n      <td>0.72</td>\n      <td>12994</td>\n      <td>EGAS</td>\n      <td>6</td>\n      <td>2.359</td>\n      <td>12.242</td>\n      <td>0.985</td>\n      <td>1.476</td>\n      <td>13.021</td>\n      <td>21.460</td>\n      <td>0.541</td>\n      <td>NaN</td>\n      <td>NaN</td>\n      <td>43350.0</td>\n      <td>NaN</td>\n    </tr>\n    <tr>\n      <th>2</th>\n      <td>10001</td>\n      <td>1987</td>\n      <td>GAS NATURAL INC</td>\n      <td>NaN</td>\n      <td>5.369</td>\n      <td>0.312</td>\n      <td>0.521083</td>\n      <td>4924</td>\n      <td>Utilities</td>\n      <td>Utilities</td>\n      <td>0.000</td>\n      <td>0.000</td>\n      <td>0.32</td>\n      <td>0.32</td>\n      <td>12994</td>\n      <td>EGAS</td>\n      <td>6</td>\n      <td>1.870</td>\n      <td>11.771</td>\n      <td>0.991</td>\n      <td>0.624</td>\n      <td>13.466</td>\n      <td>16.621</td>\n      <td>0.123</td>\n      <td>NaN</td>\n      <td>NaN</td>\n      <td>43350.0</td>\n      <td>NaN</td>\n    </tr>\n    <tr>\n      <th>3</th>\n      <td>10001</td>\n      <td>1988</td>\n      <td>GAS NATURAL INC</td>\n      <td>NaN</td>\n      <td>5.512</td>\n      <td>0.564</td>\n      <td>0.542331</td>\n      <td>4924</td>\n      <td>Utilities</td>\n      <td>Utilities</td>\n      <td>0.000</td>\n      <td>0.000</td>\n      <td>0.55</td>\n      <td>0.57</td>\n      <td>12994</td>\n      <td>EGAS</td>\n      <td>6</td>\n      <td>1.987</td>\n      <td>11.735</td>\n      <td>0.992</td>\n      <td>0.984</td>\n      <td>13.661</td>\n      <td>16.978</td>\n      <td>0.272</td>\n      <td>NaN</td>\n      <td>NaN</td>\n      <td>43350.0</td>\n      <td>NaN</td>\n    </tr>\n    <tr>\n      <th>4</th>\n      <td>10001</td>\n      <td>1989</td>\n      <td>GAS NATURAL INC</td>\n      <td>NaN</td>\n      <td>6.321</td>\n      <td>1.208</td>\n      <td>0.568510</td>\n      <td>4924</td>\n      <td>Utilities</td>\n      <td>Utilities</td>\n      <td>0.000</td>\n      <td>0.000</td>\n      <td>1.21</td>\n      <td>1.21</td>\n      <td>12994</td>\n      <td>EGAS</td>\n      <td>6</td>\n      <td>3.577</td>\n      <td>18.565</td>\n      <td>1.001</td>\n      <td>2.401</td>\n      <td>23.476</td>\n      <td>22.910</td>\n      <td>0.704</td>\n      <td>NaN</td>\n      <td>NaN</td>\n      <td>43350.0</td>\n      <td>NaN</td>\n    </tr>\n    <tr>\n      <th>...</th>\n      <td>...</td>\n      <td>...</td>\n      <td>...</td>\n      <td>...</td>\n      <td>...</td>\n      <td>...</td>\n      <td>...</td>\n      <td>...</td>\n      <td>...</td>\n      <td>...</td>\n      <td>...</td>\n      <td>...</td>\n      <td>...</td>\n      <td>...</td>\n      <td>...</td>\n      <td>...</td>\n      <td>...</td>\n      <td>...</td>\n      <td>...</td>\n      <td>...</td>\n      <td>...</td>\n      <td>...</td>\n      <td>...</td>\n      <td>...</td>\n      <td>...</td>\n      <td>...</td>\n      <td>...</td>\n      <td>...</td>\n    </tr>\n    <tr>\n      <th>246547</th>\n      <td>93436</td>\n      <td>2017</td>\n      <td>TESLA INC</td>\n      <td>3787.573</td>\n      <td>4237.242</td>\n      <td>-1961.400</td>\n      <td>1.124116</td>\n      <td>3711</td>\n      <td>Automobiles</td>\n      <td>Automobiles and Trucks</td>\n      <td>60.237</td>\n      <td>421.739</td>\n      <td>-11.83</td>\n      <td>-11.83</td>\n      <td>184996</td>\n      <td>TSLA</td>\n      <td>12</td>\n      <td>6570.520</td>\n      <td>28655.372</td>\n      <td>168.797</td>\n      <td>-1565.086</td>\n      <td>23168.820</td>\n      <td>11758.751</td>\n      <td>31.546</td>\n      <td>66.500</td>\n      <td>1378.073</td>\n      <td>1318605.0</td>\n      <td>29jun2010</td>\n    </tr>\n    <tr>\n      <th>246548</th>\n      <td>93436</td>\n      <td>2018</td>\n      <td>TESLA INC</td>\n      <td>4294.861</td>\n      <td>4923.243</td>\n      <td>-976.091</td>\n      <td>1.151573</td>\n      <td>3711</td>\n      <td>Automobiles</td>\n      <td>Automobiles and Trucks</td>\n      <td>68.159</td>\n      <td>350.651</td>\n      <td>-5.72</td>\n      <td>-5.72</td>\n      <td>184996</td>\n      <td>TSLA</td>\n      <td>12</td>\n      <td>8306.308</td>\n      <td>29739.614</td>\n      <td>172.603</td>\n      <td>-252.840</td>\n      <td>23343.447</td>\n      <td>21461.268</td>\n      <td>57.837</td>\n      <td>70.000</td>\n      <td>1473.634</td>\n      <td>1318605.0</td>\n      <td>29jun2010</td>\n    </tr>\n    <tr>\n      <th>246549</th>\n      <td>93436</td>\n      <td>2019</td>\n      <td>TESLA INC</td>\n      <td>3989.000</td>\n      <td>6618.000</td>\n      <td>-862.000</td>\n      <td>1.172442</td>\n      <td>3711</td>\n      <td>Automobiles</td>\n      <td>Automobiles and Trucks</td>\n      <td>198.000</td>\n      <td>537.000</td>\n      <td>-4.92</td>\n      <td>-4.92</td>\n      <td>184996</td>\n      <td>TSLA</td>\n      <td>12</td>\n      <td>12103.000</td>\n      <td>34309.000</td>\n      <td>181.000</td>\n      <td>80.000</td>\n      <td>25062.000</td>\n      <td>24578.000</td>\n      <td>110.000</td>\n      <td>27.000</td>\n      <td>1390.000</td>\n      <td>1318605.0</td>\n      <td>29jun2010</td>\n    </tr>\n    <tr>\n      <th>246550</th>\n      <td>93436</td>\n      <td>2020</td>\n      <td>TESLA INC</td>\n      <td>4679.000</td>\n      <td>22225.000</td>\n      <td>721.000</td>\n      <td>1.186905</td>\n      <td>3711</td>\n      <td>Automobiles</td>\n      <td>Automobiles and Trucks</td>\n      <td>207.000</td>\n      <td>520.000</td>\n      <td>0.74</td>\n      <td>0.74</td>\n      <td>184996</td>\n      <td>TSLA</td>\n      <td>12</td>\n      <td>26717.000</td>\n      <td>52148.000</td>\n      <td>960.000</td>\n      <td>2184.000</td>\n      <td>29893.000</td>\n      <td>31536.000</td>\n      <td>292.000</td>\n      <td>NaN</td>\n      <td>1491.000</td>\n      <td>1318605.0</td>\n      <td>29jun2010</td>\n    </tr>\n    <tr>\n      <th>246551</th>\n      <td>93436</td>\n      <td>2021</td>\n      <td>TESLA INC</td>\n      <td>7110.000</td>\n      <td>30189.000</td>\n      <td>5519.000</td>\n      <td>1.242664</td>\n      <td>3711</td>\n      <td>Automobiles</td>\n      <td>Automobiles and Trucks</td>\n      <td>200.000</td>\n      <td>1717.000</td>\n      <td>5.60</td>\n      <td>5.60</td>\n      <td>184996</td>\n      <td>TSLA</td>\n      <td>12</td>\n      <td>27100.000</td>\n      <td>62131.000</td>\n      <td>1033.000</td>\n      <td>6496.000</td>\n      <td>39867.000</td>\n      <td>53823.000</td>\n      <td>699.000</td>\n      <td>NaN</td>\n      <td>2593.000</td>\n      <td>1318605.0</td>\n      <td>29jun2010</td>\n    </tr>\n  </tbody>\n</table>\n<p>246552 rows × 28 columns</p>\n</div>"
     },
     "execution_count": 4,
     "metadata": {},
     "output_type": "execute_result"
    }
   ],
   "source": [
    "compustat = pd.read_csv(r\"D:/python/compustat.csv\")\n",
    "compustat"
   ],
   "metadata": {
    "collapsed": false,
    "ExecuteTime": {
     "end_time": "2024-03-16T05:36:49.909562300Z",
     "start_time": "2024-03-16T05:36:48.548016700Z"
    }
   },
   "id": "552e34ee234ad283"
  },
  {
   "cell_type": "code",
   "execution_count": 5,
   "outputs": [
    {
     "data": {
      "text/plain": "         permno     date       ret          prc   shrout  mktrf   smb   hml  \\\n0         10000  1986-02 -0.257143     3.250000     3680   7.13 -0.71 -0.77   \n1         10000  1986-03  0.365385     4.437500     3680   4.88 -0.65 -0.37   \n2         10000  1986-04 -0.098592     4.000000     3793  -1.31  2.86 -2.86   \n3         10000  1986-05 -0.222656     3.109375     3793   4.62 -1.29 -0.21   \n4         10000  1986-06 -0.005025     3.093750     3793   1.03 -0.88  1.30   \n...         ...      ...       ...          ...      ...    ...   ...   ...   \n3057775   93436  2021-08  0.070605   735.719971  1001767   2.90 -0.79 -0.13   \n3057776   93436  2021-09  0.054042   775.479980  1004000  -4.37  1.25  5.09   \n3057777   93436  2021-10  0.436530  1114.000000  1004265   6.65 -2.69 -0.44   \n3057778   93436  2021-11  0.027612  1144.760010  1004265  -1.55 -1.74 -0.53   \n3057779   93436  2021-12 -0.076855  1056.780029  1033534   3.10 -0.68  3.23   \n\n          rmw   cma    rf   mom                     comnam  year  month  \n0        1.09 -1.24  0.53  2.76  OPTIMUM MANUFACTURING INC  1986      2  \n1        1.18  0.90  0.60  2.41  OPTIMUM MANUFACTURING INC  1986      3  \n2        2.89 -0.06  0.52 -0.36  OPTIMUM MANUFACTURING INC  1986      4  \n3        2.15  1.08  0.49  2.05  OPTIMUM MANUFACTURING INC  1986      5  \n4        1.83  0.82  0.52  5.07  OPTIMUM MANUFACTURING INC  1986      6  \n...       ...   ...   ...   ...                        ...   ...    ...  \n3057775 -0.26 -1.67  0.00  2.52                  TESLA INC  2021      8  \n3057776 -1.94  2.08  0.00  1.57                  TESLA INC  2021      9  \n3057777  1.74 -1.48  0.00  3.21                  TESLA INC  2021     10  \n3057778  7.38  1.60  0.00  0.82                  TESLA INC  2021     11  \n3057779  4.75  4.37  0.01 -2.67                  TESLA INC  2021     12  \n\n[3057780 rows x 15 columns]",
      "text/html": "<div>\n<style scoped>\n    .dataframe tbody tr th:only-of-type {\n        vertical-align: middle;\n    }\n\n    .dataframe tbody tr th {\n        vertical-align: top;\n    }\n\n    .dataframe thead th {\n        text-align: right;\n    }\n</style>\n<table border=\"1\" class=\"dataframe\">\n  <thead>\n    <tr style=\"text-align: right;\">\n      <th></th>\n      <th>permno</th>\n      <th>date</th>\n      <th>ret</th>\n      <th>prc</th>\n      <th>shrout</th>\n      <th>mktrf</th>\n      <th>smb</th>\n      <th>hml</th>\n      <th>rmw</th>\n      <th>cma</th>\n      <th>rf</th>\n      <th>mom</th>\n      <th>comnam</th>\n      <th>year</th>\n      <th>month</th>\n    </tr>\n  </thead>\n  <tbody>\n    <tr>\n      <th>0</th>\n      <td>10000</td>\n      <td>1986-02</td>\n      <td>-0.257143</td>\n      <td>3.250000</td>\n      <td>3680</td>\n      <td>7.13</td>\n      <td>-0.71</td>\n      <td>-0.77</td>\n      <td>1.09</td>\n      <td>-1.24</td>\n      <td>0.53</td>\n      <td>2.76</td>\n      <td>OPTIMUM MANUFACTURING INC</td>\n      <td>1986</td>\n      <td>2</td>\n    </tr>\n    <tr>\n      <th>1</th>\n      <td>10000</td>\n      <td>1986-03</td>\n      <td>0.365385</td>\n      <td>4.437500</td>\n      <td>3680</td>\n      <td>4.88</td>\n      <td>-0.65</td>\n      <td>-0.37</td>\n      <td>1.18</td>\n      <td>0.90</td>\n      <td>0.60</td>\n      <td>2.41</td>\n      <td>OPTIMUM MANUFACTURING INC</td>\n      <td>1986</td>\n      <td>3</td>\n    </tr>\n    <tr>\n      <th>2</th>\n      <td>10000</td>\n      <td>1986-04</td>\n      <td>-0.098592</td>\n      <td>4.000000</td>\n      <td>3793</td>\n      <td>-1.31</td>\n      <td>2.86</td>\n      <td>-2.86</td>\n      <td>2.89</td>\n      <td>-0.06</td>\n      <td>0.52</td>\n      <td>-0.36</td>\n      <td>OPTIMUM MANUFACTURING INC</td>\n      <td>1986</td>\n      <td>4</td>\n    </tr>\n    <tr>\n      <th>3</th>\n      <td>10000</td>\n      <td>1986-05</td>\n      <td>-0.222656</td>\n      <td>3.109375</td>\n      <td>3793</td>\n      <td>4.62</td>\n      <td>-1.29</td>\n      <td>-0.21</td>\n      <td>2.15</td>\n      <td>1.08</td>\n      <td>0.49</td>\n      <td>2.05</td>\n      <td>OPTIMUM MANUFACTURING INC</td>\n      <td>1986</td>\n      <td>5</td>\n    </tr>\n    <tr>\n      <th>4</th>\n      <td>10000</td>\n      <td>1986-06</td>\n      <td>-0.005025</td>\n      <td>3.093750</td>\n      <td>3793</td>\n      <td>1.03</td>\n      <td>-0.88</td>\n      <td>1.30</td>\n      <td>1.83</td>\n      <td>0.82</td>\n      <td>0.52</td>\n      <td>5.07</td>\n      <td>OPTIMUM MANUFACTURING INC</td>\n      <td>1986</td>\n      <td>6</td>\n    </tr>\n    <tr>\n      <th>...</th>\n      <td>...</td>\n      <td>...</td>\n      <td>...</td>\n      <td>...</td>\n      <td>...</td>\n      <td>...</td>\n      <td>...</td>\n      <td>...</td>\n      <td>...</td>\n      <td>...</td>\n      <td>...</td>\n      <td>...</td>\n      <td>...</td>\n      <td>...</td>\n      <td>...</td>\n    </tr>\n    <tr>\n      <th>3057775</th>\n      <td>93436</td>\n      <td>2021-08</td>\n      <td>0.070605</td>\n      <td>735.719971</td>\n      <td>1001767</td>\n      <td>2.90</td>\n      <td>-0.79</td>\n      <td>-0.13</td>\n      <td>-0.26</td>\n      <td>-1.67</td>\n      <td>0.00</td>\n      <td>2.52</td>\n      <td>TESLA INC</td>\n      <td>2021</td>\n      <td>8</td>\n    </tr>\n    <tr>\n      <th>3057776</th>\n      <td>93436</td>\n      <td>2021-09</td>\n      <td>0.054042</td>\n      <td>775.479980</td>\n      <td>1004000</td>\n      <td>-4.37</td>\n      <td>1.25</td>\n      <td>5.09</td>\n      <td>-1.94</td>\n      <td>2.08</td>\n      <td>0.00</td>\n      <td>1.57</td>\n      <td>TESLA INC</td>\n      <td>2021</td>\n      <td>9</td>\n    </tr>\n    <tr>\n      <th>3057777</th>\n      <td>93436</td>\n      <td>2021-10</td>\n      <td>0.436530</td>\n      <td>1114.000000</td>\n      <td>1004265</td>\n      <td>6.65</td>\n      <td>-2.69</td>\n      <td>-0.44</td>\n      <td>1.74</td>\n      <td>-1.48</td>\n      <td>0.00</td>\n      <td>3.21</td>\n      <td>TESLA INC</td>\n      <td>2021</td>\n      <td>10</td>\n    </tr>\n    <tr>\n      <th>3057778</th>\n      <td>93436</td>\n      <td>2021-11</td>\n      <td>0.027612</td>\n      <td>1144.760010</td>\n      <td>1004265</td>\n      <td>-1.55</td>\n      <td>-1.74</td>\n      <td>-0.53</td>\n      <td>7.38</td>\n      <td>1.60</td>\n      <td>0.00</td>\n      <td>0.82</td>\n      <td>TESLA INC</td>\n      <td>2021</td>\n      <td>11</td>\n    </tr>\n    <tr>\n      <th>3057779</th>\n      <td>93436</td>\n      <td>2021-12</td>\n      <td>-0.076855</td>\n      <td>1056.780029</td>\n      <td>1033534</td>\n      <td>3.10</td>\n      <td>-0.68</td>\n      <td>3.23</td>\n      <td>4.75</td>\n      <td>4.37</td>\n      <td>0.01</td>\n      <td>-2.67</td>\n      <td>TESLA INC</td>\n      <td>2021</td>\n      <td>12</td>\n    </tr>\n  </tbody>\n</table>\n<p>3057780 rows × 15 columns</p>\n</div>"
     },
     "execution_count": 5,
     "metadata": {},
     "output_type": "execute_result"
    }
   ],
   "source": [
    "crsp1 = crsp\n",
    "crsp1['date'] = pd.to_datetime(crsp['date'].str.replace('m', '-'), format='%Y-%m').dt.strftime('%Y-%m')\n",
    "crsp1 "
   ],
   "metadata": {
    "collapsed": false,
    "ExecuteTime": {
     "end_time": "2024-03-16T05:37:36.424217700Z",
     "start_time": "2024-03-16T05:37:13.081325800Z"
    }
   },
   "id": "a63611df92ddd911"
  },
  {
   "cell_type": "code",
   "execution_count": 6,
   "outputs": [
    {
     "data": {
      "text/plain": "                                       17 industries  Number of permno\n0                                        Automobiles               317\n1   Banks, Insurance Companies, and Other Financials              4454\n2                                          Chemicals               362\n3            Construction and Construction Materials               877\n4                                  Consumer Durables               785\n5                       Drugs, Soap, Prfums, Tobacco               730\n6                                Fabricated Products               245\n7                                               Food               687\n8                   Machinery and Business Equipment              2844\n9                                Mining and Minerals               241\n10                        Oil and Petroleum Products              1109\n11                                             Other              8536\n12                                     Retail Stores              1507\n13                                   Steel Works Etc               281\n14                      Textiles, Apparel & Footware               502\n15                                    Transportation               754\n16                                         Utilities               351",
      "text/html": "<div>\n<style scoped>\n    .dataframe tbody tr th:only-of-type {\n        vertical-align: middle;\n    }\n\n    .dataframe tbody tr th {\n        vertical-align: top;\n    }\n\n    .dataframe thead th {\n        text-align: right;\n    }\n</style>\n<table border=\"1\" class=\"dataframe\">\n  <thead>\n    <tr style=\"text-align: right;\">\n      <th></th>\n      <th>17 industries</th>\n      <th>Number of permno</th>\n    </tr>\n  </thead>\n  <tbody>\n    <tr>\n      <th>0</th>\n      <td>Automobiles</td>\n      <td>317</td>\n    </tr>\n    <tr>\n      <th>1</th>\n      <td>Banks, Insurance Companies, and Other Financials</td>\n      <td>4454</td>\n    </tr>\n    <tr>\n      <th>2</th>\n      <td>Chemicals</td>\n      <td>362</td>\n    </tr>\n    <tr>\n      <th>3</th>\n      <td>Construction and Construction Materials</td>\n      <td>877</td>\n    </tr>\n    <tr>\n      <th>4</th>\n      <td>Consumer Durables</td>\n      <td>785</td>\n    </tr>\n    <tr>\n      <th>5</th>\n      <td>Drugs, Soap, Prfums, Tobacco</td>\n      <td>730</td>\n    </tr>\n    <tr>\n      <th>6</th>\n      <td>Fabricated Products</td>\n      <td>245</td>\n    </tr>\n    <tr>\n      <th>7</th>\n      <td>Food</td>\n      <td>687</td>\n    </tr>\n    <tr>\n      <th>8</th>\n      <td>Machinery and Business Equipment</td>\n      <td>2844</td>\n    </tr>\n    <tr>\n      <th>9</th>\n      <td>Mining and Minerals</td>\n      <td>241</td>\n    </tr>\n    <tr>\n      <th>10</th>\n      <td>Oil and Petroleum Products</td>\n      <td>1109</td>\n    </tr>\n    <tr>\n      <th>11</th>\n      <td>Other</td>\n      <td>8536</td>\n    </tr>\n    <tr>\n      <th>12</th>\n      <td>Retail Stores</td>\n      <td>1507</td>\n    </tr>\n    <tr>\n      <th>13</th>\n      <td>Steel Works Etc</td>\n      <td>281</td>\n    </tr>\n    <tr>\n      <th>14</th>\n      <td>Textiles, Apparel &amp; Footware</td>\n      <td>502</td>\n    </tr>\n    <tr>\n      <th>15</th>\n      <td>Transportation</td>\n      <td>754</td>\n    </tr>\n    <tr>\n      <th>16</th>\n      <td>Utilities</td>\n      <td>351</td>\n    </tr>\n  </tbody>\n</table>\n</div>"
     },
     "execution_count": 6,
     "metadata": {},
     "output_type": "execute_result"
    }
   ],
   "source": [
    "industries17 = pd.DataFrame()\n",
    "\n",
    "#Sort out the industries \n",
    "compustat_industries17 = compustat['ffind17'].unique()\n",
    "industries17_list = sorted(compustat_industries17)\n",
    "industries17 = pd.DataFrame(industries17_list, columns=['17 industries'])\n",
    "\n",
    "#Find the number of unique permno in each industries \n",
    "industry17_permno = compustat.groupby('ffind17')['permno'].nunique()\n",
    "industry17 = pd.DataFrame(industry17_permno).reset_index()\n",
    "industry17.columns = ['17 industries', 'Number of permno']\n",
    "\n",
    "industry17"
   ],
   "metadata": {
    "collapsed": false,
    "ExecuteTime": {
     "end_time": "2024-03-16T05:39:12.973904900Z",
     "start_time": "2024-03-16T05:39:12.759363700Z"
    }
   },
   "id": "673124ee6d01e148"
  },
  {
   "cell_type": "code",
   "execution_count": 8,
   "outputs": [
    {
     "data": {
      "text/plain": "                               48 industries  Number of permno\n0                                Agriculture                99\n1                                   Aircraft               102\n2                             Almost Nothing               456\n3                                    Apparel               328\n4                     Automobiles and Trucks               315\n5                                    Banking              2297\n6                              Beer & Liquor                71\n7                          Business Services              3097\n8                          Business Supplies               238\n9                               Candy & Soda                49\n10                                 Chemicals               353\n11                                      Coal                59\n12                             Communication               721\n13                                 Computers              1054\n14                              Construction               339\n15                    Construction Materials               502\n16                            Consumer Goods               414\n17                                   Defense                45\n18                      Electrical Equipment               338\n19                      Electronic Equipment              1130\n20                             Entertainment               504\n21                       Fabricated Products               114\n22                             Food Products               394\n23                                Healthcare               531\n24                                 Insurance               589\n25                                 Machinery               741\n26           Measuring and Control Equipment               450\n27                         Medical Equipment               771\n28  Non-Metallic and Industrial Metal Mining                78\n29                         Personal Services               289\n30                 Petroleum and Natural Gas              1064\n31                   Pharmaceutical Products              1206\n32                           Precious Metals                71\n33                   Printing and Publishing               206\n34                               Real Estate               377\n35                                Recreation               257\n36               Restaraunts, Hotels, Motels               498\n37                                    Retail              1281\n38               Rubber and Plastic Products               246\n39          Shipbuilding, Railroad Equipment                48\n40                       Shipping Containers                71\n41                           Steel Works Etc               281\n42                                  Textiles               158\n43                          Tobacco Products                21\n44                                   Trading              1320\n45                            Transportation               530\n46                                 Utilities               351\n47                                 Wholesale              1097",
      "text/html": "<div>\n<style scoped>\n    .dataframe tbody tr th:only-of-type {\n        vertical-align: middle;\n    }\n\n    .dataframe tbody tr th {\n        vertical-align: top;\n    }\n\n    .dataframe thead th {\n        text-align: right;\n    }\n</style>\n<table border=\"1\" class=\"dataframe\">\n  <thead>\n    <tr style=\"text-align: right;\">\n      <th></th>\n      <th>48 industries</th>\n      <th>Number of permno</th>\n    </tr>\n  </thead>\n  <tbody>\n    <tr>\n      <th>0</th>\n      <td>Agriculture</td>\n      <td>99</td>\n    </tr>\n    <tr>\n      <th>1</th>\n      <td>Aircraft</td>\n      <td>102</td>\n    </tr>\n    <tr>\n      <th>2</th>\n      <td>Almost Nothing</td>\n      <td>456</td>\n    </tr>\n    <tr>\n      <th>3</th>\n      <td>Apparel</td>\n      <td>328</td>\n    </tr>\n    <tr>\n      <th>4</th>\n      <td>Automobiles and Trucks</td>\n      <td>315</td>\n    </tr>\n    <tr>\n      <th>5</th>\n      <td>Banking</td>\n      <td>2297</td>\n    </tr>\n    <tr>\n      <th>6</th>\n      <td>Beer &amp; Liquor</td>\n      <td>71</td>\n    </tr>\n    <tr>\n      <th>7</th>\n      <td>Business Services</td>\n      <td>3097</td>\n    </tr>\n    <tr>\n      <th>8</th>\n      <td>Business Supplies</td>\n      <td>238</td>\n    </tr>\n    <tr>\n      <th>9</th>\n      <td>Candy &amp; Soda</td>\n      <td>49</td>\n    </tr>\n    <tr>\n      <th>10</th>\n      <td>Chemicals</td>\n      <td>353</td>\n    </tr>\n    <tr>\n      <th>11</th>\n      <td>Coal</td>\n      <td>59</td>\n    </tr>\n    <tr>\n      <th>12</th>\n      <td>Communication</td>\n      <td>721</td>\n    </tr>\n    <tr>\n      <th>13</th>\n      <td>Computers</td>\n      <td>1054</td>\n    </tr>\n    <tr>\n      <th>14</th>\n      <td>Construction</td>\n      <td>339</td>\n    </tr>\n    <tr>\n      <th>15</th>\n      <td>Construction Materials</td>\n      <td>502</td>\n    </tr>\n    <tr>\n      <th>16</th>\n      <td>Consumer Goods</td>\n      <td>414</td>\n    </tr>\n    <tr>\n      <th>17</th>\n      <td>Defense</td>\n      <td>45</td>\n    </tr>\n    <tr>\n      <th>18</th>\n      <td>Electrical Equipment</td>\n      <td>338</td>\n    </tr>\n    <tr>\n      <th>19</th>\n      <td>Electronic Equipment</td>\n      <td>1130</td>\n    </tr>\n    <tr>\n      <th>20</th>\n      <td>Entertainment</td>\n      <td>504</td>\n    </tr>\n    <tr>\n      <th>21</th>\n      <td>Fabricated Products</td>\n      <td>114</td>\n    </tr>\n    <tr>\n      <th>22</th>\n      <td>Food Products</td>\n      <td>394</td>\n    </tr>\n    <tr>\n      <th>23</th>\n      <td>Healthcare</td>\n      <td>531</td>\n    </tr>\n    <tr>\n      <th>24</th>\n      <td>Insurance</td>\n      <td>589</td>\n    </tr>\n    <tr>\n      <th>25</th>\n      <td>Machinery</td>\n      <td>741</td>\n    </tr>\n    <tr>\n      <th>26</th>\n      <td>Measuring and Control Equipment</td>\n      <td>450</td>\n    </tr>\n    <tr>\n      <th>27</th>\n      <td>Medical Equipment</td>\n      <td>771</td>\n    </tr>\n    <tr>\n      <th>28</th>\n      <td>Non-Metallic and Industrial Metal Mining</td>\n      <td>78</td>\n    </tr>\n    <tr>\n      <th>29</th>\n      <td>Personal Services</td>\n      <td>289</td>\n    </tr>\n    <tr>\n      <th>30</th>\n      <td>Petroleum and Natural Gas</td>\n      <td>1064</td>\n    </tr>\n    <tr>\n      <th>31</th>\n      <td>Pharmaceutical Products</td>\n      <td>1206</td>\n    </tr>\n    <tr>\n      <th>32</th>\n      <td>Precious Metals</td>\n      <td>71</td>\n    </tr>\n    <tr>\n      <th>33</th>\n      <td>Printing and Publishing</td>\n      <td>206</td>\n    </tr>\n    <tr>\n      <th>34</th>\n      <td>Real Estate</td>\n      <td>377</td>\n    </tr>\n    <tr>\n      <th>35</th>\n      <td>Recreation</td>\n      <td>257</td>\n    </tr>\n    <tr>\n      <th>36</th>\n      <td>Restaraunts, Hotels, Motels</td>\n      <td>498</td>\n    </tr>\n    <tr>\n      <th>37</th>\n      <td>Retail</td>\n      <td>1281</td>\n    </tr>\n    <tr>\n      <th>38</th>\n      <td>Rubber and Plastic Products</td>\n      <td>246</td>\n    </tr>\n    <tr>\n      <th>39</th>\n      <td>Shipbuilding, Railroad Equipment</td>\n      <td>48</td>\n    </tr>\n    <tr>\n      <th>40</th>\n      <td>Shipping Containers</td>\n      <td>71</td>\n    </tr>\n    <tr>\n      <th>41</th>\n      <td>Steel Works Etc</td>\n      <td>281</td>\n    </tr>\n    <tr>\n      <th>42</th>\n      <td>Textiles</td>\n      <td>158</td>\n    </tr>\n    <tr>\n      <th>43</th>\n      <td>Tobacco Products</td>\n      <td>21</td>\n    </tr>\n    <tr>\n      <th>44</th>\n      <td>Trading</td>\n      <td>1320</td>\n    </tr>\n    <tr>\n      <th>45</th>\n      <td>Transportation</td>\n      <td>530</td>\n    </tr>\n    <tr>\n      <th>46</th>\n      <td>Utilities</td>\n      <td>351</td>\n    </tr>\n    <tr>\n      <th>47</th>\n      <td>Wholesale</td>\n      <td>1097</td>\n    </tr>\n  </tbody>\n</table>\n</div>"
     },
     "execution_count": 8,
     "metadata": {},
     "output_type": "execute_result"
    }
   ],
   "source": [
    "industries48 = pd.DataFrame()\n",
    "\n",
    "compustat_industries48 = compustat['ffind48'].unique()\n",
    "industries48_list = sorted(compustat_industries48)\n",
    "industries48 = pd.DataFrame(industries48_list, columns=['48 industries'])\n",
    "\n",
    "#Find the number of unique permno in each industries \n",
    "industry48_permno = compustat.groupby('ffind48')['permno'].nunique()\n",
    "industry48 = pd.DataFrame(industry48_permno).reset_index()\n",
    "industry48.columns = ['48 industries', 'Number of permno']\n",
    "\n",
    "industry48"
   ],
   "metadata": {
    "collapsed": false,
    "ExecuteTime": {
     "end_time": "2024-03-16T05:39:40.977045100Z",
     "start_time": "2024-03-16T05:39:40.878237900Z"
    }
   },
   "id": "338d7a2afd823c47"
  },
  {
   "cell_type": "code",
   "execution_count": 10,
   "outputs": [
    {
     "name": "stdout",
     "output_type": "stream",
     "text": [
      "The number of missing values in cpi is 0.\n"
     ]
    }
   ],
   "source": [
    "#We look for the missing values\n",
    "missing_values = compustat['xsga'].isnull().sum()\n",
    "\n",
    "#We replace missing values in xsga column with 0\n",
    "compustat['xsga'] = compustat['xsga'].fillna(0)\n",
    "\n",
    "# Same inspection for the cpi column because we need those values for the computation of INT\n",
    "missing_values_cpi = compustat['cpi'].isnull().sum()\n",
    "print(f'The number of missing values in cpi is {missing_values_cpi}.')"
   ],
   "metadata": {
    "collapsed": false,
    "ExecuteTime": {
     "end_time": "2024-03-16T05:40:26.046032400Z",
     "start_time": "2024-03-16T05:40:25.979083Z"
    }
   },
   "id": "d7624702271f47a1"
  },
  {
   "cell_type": "code",
   "execution_count": 11,
   "outputs": [
    {
     "data": {
      "text/plain": "        permno  fyear                          conm      xsga       cpi\n0        10000   1986  OPTIMUM MANUFACTURING  -CL A     1.100  0.502663\n1        10001   1986               GAS NATURAL INC     0.000  0.502663\n2        10001   1987               GAS NATURAL INC     0.000  0.521083\n3        10001   1988               GAS NATURAL INC     0.000  0.542331\n4        10001   1989               GAS NATURAL INC     0.000  0.568510\n...        ...    ...                           ...       ...       ...\n246547   93436   2017                     TESLA INC  3787.573  1.124116\n246548   93436   2018                     TESLA INC  4294.861  1.151573\n246549   93436   2019                     TESLA INC  3989.000  1.172442\n246550   93436   2020                     TESLA INC  4679.000  1.186905\n246551   93436   2021                     TESLA INC  7110.000  1.242664\n\n[246552 rows x 5 columns]",
      "text/html": "<div>\n<style scoped>\n    .dataframe tbody tr th:only-of-type {\n        vertical-align: middle;\n    }\n\n    .dataframe tbody tr th {\n        vertical-align: top;\n    }\n\n    .dataframe thead th {\n        text-align: right;\n    }\n</style>\n<table border=\"1\" class=\"dataframe\">\n  <thead>\n    <tr style=\"text-align: right;\">\n      <th></th>\n      <th>permno</th>\n      <th>fyear</th>\n      <th>conm</th>\n      <th>xsga</th>\n      <th>cpi</th>\n    </tr>\n  </thead>\n  <tbody>\n    <tr>\n      <th>0</th>\n      <td>10000</td>\n      <td>1986</td>\n      <td>OPTIMUM MANUFACTURING  -CL A</td>\n      <td>1.100</td>\n      <td>0.502663</td>\n    </tr>\n    <tr>\n      <th>1</th>\n      <td>10001</td>\n      <td>1986</td>\n      <td>GAS NATURAL INC</td>\n      <td>0.000</td>\n      <td>0.502663</td>\n    </tr>\n    <tr>\n      <th>2</th>\n      <td>10001</td>\n      <td>1987</td>\n      <td>GAS NATURAL INC</td>\n      <td>0.000</td>\n      <td>0.521083</td>\n    </tr>\n    <tr>\n      <th>3</th>\n      <td>10001</td>\n      <td>1988</td>\n      <td>GAS NATURAL INC</td>\n      <td>0.000</td>\n      <td>0.542331</td>\n    </tr>\n    <tr>\n      <th>4</th>\n      <td>10001</td>\n      <td>1989</td>\n      <td>GAS NATURAL INC</td>\n      <td>0.000</td>\n      <td>0.568510</td>\n    </tr>\n    <tr>\n      <th>...</th>\n      <td>...</td>\n      <td>...</td>\n      <td>...</td>\n      <td>...</td>\n      <td>...</td>\n    </tr>\n    <tr>\n      <th>246547</th>\n      <td>93436</td>\n      <td>2017</td>\n      <td>TESLA INC</td>\n      <td>3787.573</td>\n      <td>1.124116</td>\n    </tr>\n    <tr>\n      <th>246548</th>\n      <td>93436</td>\n      <td>2018</td>\n      <td>TESLA INC</td>\n      <td>4294.861</td>\n      <td>1.151573</td>\n    </tr>\n    <tr>\n      <th>246549</th>\n      <td>93436</td>\n      <td>2019</td>\n      <td>TESLA INC</td>\n      <td>3989.000</td>\n      <td>1.172442</td>\n    </tr>\n    <tr>\n      <th>246550</th>\n      <td>93436</td>\n      <td>2020</td>\n      <td>TESLA INC</td>\n      <td>4679.000</td>\n      <td>1.186905</td>\n    </tr>\n    <tr>\n      <th>246551</th>\n      <td>93436</td>\n      <td>2021</td>\n      <td>TESLA INC</td>\n      <td>7110.000</td>\n      <td>1.242664</td>\n    </tr>\n  </tbody>\n</table>\n<p>246552 rows × 5 columns</p>\n</div>"
     },
     "execution_count": 11,
     "metadata": {},
     "output_type": "execute_result"
    }
   ],
   "source": [
    "compustat_INT = compustat[['permno', 'fyear','conm','xsga','cpi']]\n",
    "compustat_INT"
   ],
   "metadata": {
    "collapsed": false,
    "ExecuteTime": {
     "end_time": "2024-03-16T05:40:57.897213400Z",
     "start_time": "2024-03-16T05:40:57.751717700Z"
    }
   },
   "id": "816569b2e80d60be"
  },
  {
   "cell_type": "code",
   "execution_count": 24,
   "outputs": [],
   "source": [
    "compustat_INT.loc[:, 'SGA_1'] = 0\n",
    "\n",
    "for i, idx in enumerate(compustat_INT.index):\n",
    "    if i > 0 and compustat_INT.loc[idx, 'permno'] != compustat_INT.loc[compustat_INT.index[i-1], 'permno']:\n",
    "        compustat_INT.loc[idx, 'SGA_1'] = compustat_INT.loc[idx, 'xsga']\n",
    "\n",
    "#We assign the corresponding xsga value for the first permno 10000\n",
    "compustat_INT.loc[0, 'SGA_1'] = compustat_INT.loc[0, 'xsga']"
   ],
   "metadata": {
    "collapsed": false,
    "ExecuteTime": {
     "end_time": "2024-03-16T06:00:00.609278600Z",
     "start_time": "2024-03-16T05:59:50.908060400Z"
    }
   },
   "id": "63d353aaff1d0f05"
  },
  {
   "cell_type": "code",
   "execution_count": 25,
   "outputs": [
    {
     "name": "stdout",
     "output_type": "stream",
     "text": [
      "permno      int64\n",
      "fyear       int64\n",
      "conm       object\n",
      "xsga      float64\n",
      "cpi       float64\n",
      "SGA_1     float64\n",
      "dtype: object\n"
     ]
    }
   ],
   "source": [
    "print(compustat_INT.dtypes)"
   ],
   "metadata": {
    "collapsed": false,
    "ExecuteTime": {
     "end_time": "2024-03-16T06:00:42.651233400Z",
     "start_time": "2024-03-16T06:00:42.585538300Z"
    }
   },
   "id": "31cdcbc06aa9b78a"
  },
  {
   "cell_type": "code",
   "execution_count": 26,
   "outputs": [
    {
     "name": "stderr",
     "output_type": "stream",
     "text": [
      "C:\\Users\\wzw94\\AppData\\Local\\Temp\\ipykernel_26184\\2241338668.py:3: SettingWithCopyWarning: \n",
      "A value is trying to be set on a copy of a slice from a DataFrame.\n",
      "Try using .loc[row_indexer,col_indexer] = value instead\n",
      "\n",
      "See the caveats in the documentation: https://pandas.pydata.org/pandas-docs/stable/user_guide/indexing.html#returning-a-view-versus-a-copy\n",
      "  compustat_INT.loc[:, 'INT_0'] = compustat_INT['SGA_1'] / (g + delta_0)\n"
     ]
    },
    {
     "data": {
      "text/plain": "        permno  fyear                          conm      xsga       cpi  \\\n0        10000   1986  OPTIMUM MANUFACTURING  -CL A     1.100  0.502663   \n1        10001   1986               GAS NATURAL INC     0.000  0.502663   \n2        10001   1987               GAS NATURAL INC     0.000  0.521083   \n3        10001   1988               GAS NATURAL INC     0.000  0.542331   \n4        10001   1989               GAS NATURAL INC     0.000  0.568510   \n...        ...    ...                           ...       ...       ...   \n246548   93436   2018                     TESLA INC  4294.861  1.151573   \n246549   93436   2019                     TESLA INC  3989.000  1.172442   \n246550   93436   2020                     TESLA INC  4679.000  1.186905   \n246551   93436   2021                     TESLA INC  7110.000  1.242664   \nSGA_1        0      0                             0     0.000  0.000000   \n\n        SGA_1  INT_0  \n0         1.1    4.4  \n1         0.0    0.0  \n2         0.0    0.0  \n3         0.0    0.0  \n4         0.0    0.0  \n...       ...    ...  \n246548    0.0    0.0  \n246549    0.0    0.0  \n246550    0.0    0.0  \n246551    0.0    0.0  \nSGA_1     0.0    0.0  \n\n[246553 rows x 7 columns]",
      "text/html": "<div>\n<style scoped>\n    .dataframe tbody tr th:only-of-type {\n        vertical-align: middle;\n    }\n\n    .dataframe tbody tr th {\n        vertical-align: top;\n    }\n\n    .dataframe thead th {\n        text-align: right;\n    }\n</style>\n<table border=\"1\" class=\"dataframe\">\n  <thead>\n    <tr style=\"text-align: right;\">\n      <th></th>\n      <th>permno</th>\n      <th>fyear</th>\n      <th>conm</th>\n      <th>xsga</th>\n      <th>cpi</th>\n      <th>SGA_1</th>\n      <th>INT_0</th>\n    </tr>\n  </thead>\n  <tbody>\n    <tr>\n      <th>0</th>\n      <td>10000</td>\n      <td>1986</td>\n      <td>OPTIMUM MANUFACTURING  -CL A</td>\n      <td>1.100</td>\n      <td>0.502663</td>\n      <td>1.1</td>\n      <td>4.4</td>\n    </tr>\n    <tr>\n      <th>1</th>\n      <td>10001</td>\n      <td>1986</td>\n      <td>GAS NATURAL INC</td>\n      <td>0.000</td>\n      <td>0.502663</td>\n      <td>0.0</td>\n      <td>0.0</td>\n    </tr>\n    <tr>\n      <th>2</th>\n      <td>10001</td>\n      <td>1987</td>\n      <td>GAS NATURAL INC</td>\n      <td>0.000</td>\n      <td>0.521083</td>\n      <td>0.0</td>\n      <td>0.0</td>\n    </tr>\n    <tr>\n      <th>3</th>\n      <td>10001</td>\n      <td>1988</td>\n      <td>GAS NATURAL INC</td>\n      <td>0.000</td>\n      <td>0.542331</td>\n      <td>0.0</td>\n      <td>0.0</td>\n    </tr>\n    <tr>\n      <th>4</th>\n      <td>10001</td>\n      <td>1989</td>\n      <td>GAS NATURAL INC</td>\n      <td>0.000</td>\n      <td>0.568510</td>\n      <td>0.0</td>\n      <td>0.0</td>\n    </tr>\n    <tr>\n      <th>...</th>\n      <td>...</td>\n      <td>...</td>\n      <td>...</td>\n      <td>...</td>\n      <td>...</td>\n      <td>...</td>\n      <td>...</td>\n    </tr>\n    <tr>\n      <th>246548</th>\n      <td>93436</td>\n      <td>2018</td>\n      <td>TESLA INC</td>\n      <td>4294.861</td>\n      <td>1.151573</td>\n      <td>0.0</td>\n      <td>0.0</td>\n    </tr>\n    <tr>\n      <th>246549</th>\n      <td>93436</td>\n      <td>2019</td>\n      <td>TESLA INC</td>\n      <td>3989.000</td>\n      <td>1.172442</td>\n      <td>0.0</td>\n      <td>0.0</td>\n    </tr>\n    <tr>\n      <th>246550</th>\n      <td>93436</td>\n      <td>2020</td>\n      <td>TESLA INC</td>\n      <td>4679.000</td>\n      <td>1.186905</td>\n      <td>0.0</td>\n      <td>0.0</td>\n    </tr>\n    <tr>\n      <th>246551</th>\n      <td>93436</td>\n      <td>2021</td>\n      <td>TESLA INC</td>\n      <td>7110.000</td>\n      <td>1.242664</td>\n      <td>0.0</td>\n      <td>0.0</td>\n    </tr>\n    <tr>\n      <th>SGA_1</th>\n      <td>0</td>\n      <td>0</td>\n      <td>0</td>\n      <td>0.000</td>\n      <td>0.000000</td>\n      <td>0.0</td>\n      <td>0.0</td>\n    </tr>\n  </tbody>\n</table>\n<p>246553 rows × 7 columns</p>\n</div>"
     },
     "execution_count": 26,
     "metadata": {},
     "output_type": "execute_result"
    }
   ],
   "source": [
    "delta_0 = 0.15\n",
    "g = 0.10\n",
    "compustat_INT.loc[:, 'INT_0'] = compustat_INT['SGA_1'] / (g + delta_0)\n",
    "compustat_INT"
   ],
   "metadata": {
    "collapsed": false,
    "ExecuteTime": {
     "end_time": "2024-03-16T06:01:20.234960Z",
     "start_time": "2024-03-16T06:01:20.178723900Z"
    }
   },
   "id": "735f61ee81ebd924"
  },
  {
   "cell_type": "code",
   "execution_count": null,
   "outputs": [],
   "source": [],
   "metadata": {
    "collapsed": false
   },
   "id": "96fe30a162d2b6a6"
  },
  {
   "cell_type": "code",
   "execution_count": 27,
   "outputs": [
    {
     "name": "stderr",
     "output_type": "stream",
     "text": [
      "C:\\Users\\wzw94\\AppData\\Local\\Temp\\ipykernel_26184\\2733555277.py:4: SettingWithCopyWarning: \n",
      "A value is trying to be set on a copy of a slice from a DataFrame.\n",
      "Try using .loc[row_indexer,col_indexer] = value instead\n",
      "\n",
      "See the caveats in the documentation: https://pandas.pydata.org/pandas-docs/stable/user_guide/indexing.html#returning-a-view-versus-a-copy\n",
      "  compustat_INT.loc[:, 'INT'] = compustat_INT.loc[:, 'INT_0']\n"
     ]
    },
    {
     "data": {
      "text/plain": "        permno  fyear                          conm      xsga       cpi  \\\n0        10000   1986  OPTIMUM MANUFACTURING  -CL A     1.100  0.502663   \n1        10001   1986               GAS NATURAL INC     0.000  0.502663   \n2        10001   1987               GAS NATURAL INC     0.000  0.521083   \n3        10001   1988               GAS NATURAL INC     0.000  0.542331   \n4        10001   1989               GAS NATURAL INC     0.000  0.568510   \n...        ...    ...                           ...       ...       ...   \n246548   93436   2018                     TESLA INC  4294.861  1.151573   \n246549   93436   2019                     TESLA INC  3989.000  1.172442   \n246550   93436   2020                     TESLA INC  4679.000  1.186905   \n246551   93436   2021                     TESLA INC  7110.000  1.242664   \nSGA_1        0      0                             0     0.000  0.000000   \n\n        SGA_1  INT_0           INT  \n0         1.1    4.4      4.400000  \n1         0.0    0.0      0.000000  \n2         0.0    0.0      0.000000  \n3         0.0    0.0      0.000000  \n4         0.0    0.0      0.000000  \n...       ...    ...           ...  \n246548    0.0    0.0  10165.262313  \n246549    0.0    0.0  12042.773595  \n246550    0.0    0.0  14178.543272  \n246551    0.0    0.0  17773.339947  \nSGA_1     0.0    0.0      0.000000  \n\n[246553 rows x 8 columns]",
      "text/html": "<div>\n<style scoped>\n    .dataframe tbody tr th:only-of-type {\n        vertical-align: middle;\n    }\n\n    .dataframe tbody tr th {\n        vertical-align: top;\n    }\n\n    .dataframe thead th {\n        text-align: right;\n    }\n</style>\n<table border=\"1\" class=\"dataframe\">\n  <thead>\n    <tr style=\"text-align: right;\">\n      <th></th>\n      <th>permno</th>\n      <th>fyear</th>\n      <th>conm</th>\n      <th>xsga</th>\n      <th>cpi</th>\n      <th>SGA_1</th>\n      <th>INT_0</th>\n      <th>INT</th>\n    </tr>\n  </thead>\n  <tbody>\n    <tr>\n      <th>0</th>\n      <td>10000</td>\n      <td>1986</td>\n      <td>OPTIMUM MANUFACTURING  -CL A</td>\n      <td>1.100</td>\n      <td>0.502663</td>\n      <td>1.1</td>\n      <td>4.4</td>\n      <td>4.400000</td>\n    </tr>\n    <tr>\n      <th>1</th>\n      <td>10001</td>\n      <td>1986</td>\n      <td>GAS NATURAL INC</td>\n      <td>0.000</td>\n      <td>0.502663</td>\n      <td>0.0</td>\n      <td>0.0</td>\n      <td>0.000000</td>\n    </tr>\n    <tr>\n      <th>2</th>\n      <td>10001</td>\n      <td>1987</td>\n      <td>GAS NATURAL INC</td>\n      <td>0.000</td>\n      <td>0.521083</td>\n      <td>0.0</td>\n      <td>0.0</td>\n      <td>0.000000</td>\n    </tr>\n    <tr>\n      <th>3</th>\n      <td>10001</td>\n      <td>1988</td>\n      <td>GAS NATURAL INC</td>\n      <td>0.000</td>\n      <td>0.542331</td>\n      <td>0.0</td>\n      <td>0.0</td>\n      <td>0.000000</td>\n    </tr>\n    <tr>\n      <th>4</th>\n      <td>10001</td>\n      <td>1989</td>\n      <td>GAS NATURAL INC</td>\n      <td>0.000</td>\n      <td>0.568510</td>\n      <td>0.0</td>\n      <td>0.0</td>\n      <td>0.000000</td>\n    </tr>\n    <tr>\n      <th>...</th>\n      <td>...</td>\n      <td>...</td>\n      <td>...</td>\n      <td>...</td>\n      <td>...</td>\n      <td>...</td>\n      <td>...</td>\n      <td>...</td>\n    </tr>\n    <tr>\n      <th>246548</th>\n      <td>93436</td>\n      <td>2018</td>\n      <td>TESLA INC</td>\n      <td>4294.861</td>\n      <td>1.151573</td>\n      <td>0.0</td>\n      <td>0.0</td>\n      <td>10165.262313</td>\n    </tr>\n    <tr>\n      <th>246549</th>\n      <td>93436</td>\n      <td>2019</td>\n      <td>TESLA INC</td>\n      <td>3989.000</td>\n      <td>1.172442</td>\n      <td>0.0</td>\n      <td>0.0</td>\n      <td>12042.773595</td>\n    </tr>\n    <tr>\n      <th>246550</th>\n      <td>93436</td>\n      <td>2020</td>\n      <td>TESLA INC</td>\n      <td>4679.000</td>\n      <td>1.186905</td>\n      <td>0.0</td>\n      <td>0.0</td>\n      <td>14178.543272</td>\n    </tr>\n    <tr>\n      <th>246551</th>\n      <td>93436</td>\n      <td>2021</td>\n      <td>TESLA INC</td>\n      <td>7110.000</td>\n      <td>1.242664</td>\n      <td>0.0</td>\n      <td>0.0</td>\n      <td>17773.339947</td>\n    </tr>\n    <tr>\n      <th>SGA_1</th>\n      <td>0</td>\n      <td>0</td>\n      <td>0</td>\n      <td>0.000</td>\n      <td>0.000000</td>\n      <td>0.0</td>\n      <td>0.0</td>\n      <td>0.000000</td>\n    </tr>\n  </tbody>\n</table>\n<p>246553 rows × 8 columns</p>\n</div>"
     },
     "execution_count": 27,
     "metadata": {},
     "output_type": "execute_result"
    }
   ],
   "source": [
    "delta_INT = delta_0\n",
    "\n",
    "#We create a new column for the stock of INT that takes the initial values we computed\n",
    "compustat_INT.loc[:, 'INT'] = compustat_INT.loc[:, 'INT_0']\n",
    "\n",
    "#We initialize the first value of the column 'INT'\n",
    "compustat_INT.loc[0, 'INT'] = compustat_INT.loc[0, 'INT_0']\n",
    "\n",
    "#We group by 'permno'\n",
    "for permno, group_indices in compustat_INT.groupby('permno').groups.items():\n",
    "    #And we compute the INT for each row in each 'permno' group\n",
    "    for i in range(1, len(group_indices)):\n",
    "        if compustat_INT.loc[group_indices[i], 'INT'] == 0:\n",
    "           compustat_INT.loc[group_indices[i], 'INT'] = (1 - delta_INT) * compustat_INT.loc[group_indices[i-1], 'INT'] + compustat_INT.loc[group_indices[i], 'xsga'] / compustat_INT.loc[group_indices[i], 'cpi']\n",
    "\n",
    "compustat_INT"
   ],
   "metadata": {
    "collapsed": false,
    "ExecuteTime": {
     "end_time": "2024-03-16T06:15:25.670713600Z",
     "start_time": "2024-03-16T06:14:43.485896500Z"
    }
   },
   "id": "2b95e0400df4601f"
  },
  {
   "cell_type": "code",
   "execution_count": 28,
   "outputs": [
    {
     "name": "stdout",
     "output_type": "stream",
     "text": [
      "The number of unique values in permno is 22307.\n"
     ]
    }
   ],
   "source": [
    "#Compute the number of unique permno values\n",
    "number_of_permno = compustat_INT['permno'].nunique()\n",
    "\n",
    "print(f'The number of unique values in permno is {number_of_permno}.')"
   ],
   "metadata": {
    "collapsed": false,
    "ExecuteTime": {
     "end_time": "2024-03-16T06:16:41.077530900Z",
     "start_time": "2024-03-16T06:16:41.045773900Z"
    }
   },
   "id": "50346039bb77e05f"
  },
  {
   "cell_type": "code",
   "execution_count": 29,
   "outputs": [
    {
     "name": "stdout",
     "output_type": "stream",
     "text": [
      "The number of unique values in permno is 53.\n"
     ]
    }
   ],
   "source": [
    "#Compute the number of unique year values\n",
    "number_of_year = compustat_INT['fyear'].nunique()\n",
    "\n",
    "print(f'The number of unique values in permno is {number_of_year}.')"
   ],
   "metadata": {
    "collapsed": false,
    "ExecuteTime": {
     "end_time": "2024-03-16T06:17:31.754483500Z",
     "start_time": "2024-03-16T06:17:31.635109300Z"
    }
   },
   "id": "b8664fa54e68b557"
  },
  {
   "cell_type": "code",
   "execution_count": 30,
   "outputs": [],
   "source": [
    "relevant_indus = ['Chemicals', 'Drugs, Soap, Prfums, Tobacco', 'Retail Stores', 'Banks, Insurance Companies, and Other Financials']\n",
    "compustat_indus = compustat[compustat['ffind17'].isin(relevant_indus)]\n",
    "\n",
    "# We reindex the columns from 0\n",
    "compustat_indus = compustat_indus.reset_index(drop=True)"
   ],
   "metadata": {
    "collapsed": false,
    "ExecuteTime": {
     "end_time": "2024-03-16T07:04:38.599137300Z",
     "start_time": "2024-03-16T07:04:38.413963700Z"
    }
   },
   "id": "8c9cba0074202dee"
  },
  {
   "cell_type": "code",
   "execution_count": 31,
   "outputs": [
    {
     "data": {
      "text/plain": "       permno  fyear                         conm    xsga      ceq      ni  \\\n0       10002   1993  BANCTRUST FINANCIAL GRP INC   4.638   24.158   3.391   \n1       10002   1994  BANCTRUST FINANCIAL GRP INC   5.381   26.104   2.782   \n2       10002   1995  BANCTRUST FINANCIAL GRP INC   5.931   28.797   3.007   \n3       10002   1996  BANCTRUST FINANCIAL GRP INC   6.549   47.088   3.354   \n4       10002   1997  BANCTRUST FINANCIAL GRP INC   7.882   45.462   4.728   \n...       ...    ...                          ...     ...      ...     ...   \n72730   93432   2010  JIANGBO PHARMACEUTICALS INC  21.221  134.517  29.850   \n72731   93433   2015                 VOLTARI CORP   4.790  -37.674  -6.622   \n72732   93433   2016                 VOLTARI CORP   0.000  -47.696  -3.111   \n72733   93433   2017                 VOLTARI CORP   0.000  -57.201  -1.902   \n72734   93433   2018                 VOLTARI CORP   0.000  -67.146  -1.526   \n\n            cpi  sich                                           ffind17  \\\n0      0.662484  6020  Banks, Insurance Companies, and Other Financials   \n1      0.679758  6020  Banks, Insurance Companies, and Other Financials   \n2      0.698828  6020  Banks, Insurance Companies, and Other Financials   \n3      0.719312  6020  Banks, Insurance Companies, and Other Financials   \n4      0.736128  6020  Banks, Insurance Companies, and Other Financials   \n...         ...   ...                                               ...   \n72730  1.000000  2834                      Drugs, Soap, Prfums, Tobacco   \n72731  1.086957  6512  Banks, Insurance Companies, and Other Financials   \n72732  1.100670  6512  Banks, Insurance Companies, and Other Financials   \n72733  1.124116  6512  Banks, Insurance Companies, and Other Financials   \n72734  1.151573  6512  Banks, Insurance Companies, and Other Financials   \n\n                       ffind48  gdwl   intan  epspx  epspi   gvkey   tic  fyr  \\\n0                      Banking   0.0   0.000   0.79   1.13   19049  BTFG   12   \n1                      Banking   0.0   0.000   0.93   0.93   19049  BTFG   12   \n2                      Banking   0.0   0.000   1.00   1.00   19049  BTFG   12   \n3                      Banking   0.0   4.160   1.05   1.05   19049  BTFG   12   \n4                      Banking   0.0   3.993   1.12   1.12   19049  BTFG   12   \n...                        ...   ...     ...    ...    ...     ...   ...  ...   \n72730  Pharmaceutical Products   0.0  32.594   2.69   2.69  108753  JGBO    6   \n72731              Real Estate   0.0   0.000  -1.40  -1.60  184994  VLTC   12   \n72732              Real Estate   0.0   0.000  -1.11  -1.11  184994  VLTC   12   \n72733              Real Estate   0.0   0.394  -1.06  -1.06  184994  VLTC   12   \n72734              Real Estate   0.0   1.283  -1.11  -1.11  184994  VLTC   12   \n\n           act       at    csho    ebit   ppegt    sale     txt    xad  xrd  \\\n0          NaN  218.704   2.999   5.640     NaN  15.842   1.263  0.000  NaN   \n1          NaN  218.506   2.999   6.202     NaN  17.482   1.237  0.247  NaN   \n2          NaN  244.949   3.002   6.111     NaN  20.338   1.410  0.222  NaN   \n3          NaN  350.077   4.227   6.499     NaN  22.426   1.486  0.130  NaN   \n4          NaN  369.595   4.246   8.580     NaN  28.998   1.770  0.168  NaN   \n...        ...      ...     ...     ...     ...     ...     ...    ...  ...   \n72730  156.351  202.340  11.702  48.215  16.377  97.444  12.897  5.566  4.4   \n72731      NaN    6.004   8.995  -4.935   4.414   0.049   0.000    NaN  NaN   \n72732      NaN    7.250   8.995  -2.805   6.800   0.262   0.000    NaN  NaN   \n72733      NaN    6.648   8.995  -1.699   6.170   0.322   0.000    NaN  NaN   \n72734      NaN   23.494   8.995  -0.953  22.062   1.554   0.002    NaN  NaN   \n\n             cik    ipodate  \n0       783739.0        NaN  \n1       783739.0        NaN  \n2       783739.0        NaN  \n3       783739.0        NaN  \n4       783739.0        NaN  \n...          ...        ...  \n72730  1091164.0        NaN  \n72731  1568319.0  18jun2010  \n72732  1568319.0  18jun2010  \n72733  1568319.0  18jun2010  \n72734  1568319.0  18jun2010  \n\n[72735 rows x 28 columns]",
      "text/html": "<div>\n<style scoped>\n    .dataframe tbody tr th:only-of-type {\n        vertical-align: middle;\n    }\n\n    .dataframe tbody tr th {\n        vertical-align: top;\n    }\n\n    .dataframe thead th {\n        text-align: right;\n    }\n</style>\n<table border=\"1\" class=\"dataframe\">\n  <thead>\n    <tr style=\"text-align: right;\">\n      <th></th>\n      <th>permno</th>\n      <th>fyear</th>\n      <th>conm</th>\n      <th>xsga</th>\n      <th>ceq</th>\n      <th>ni</th>\n      <th>cpi</th>\n      <th>sich</th>\n      <th>ffind17</th>\n      <th>ffind48</th>\n      <th>gdwl</th>\n      <th>intan</th>\n      <th>epspx</th>\n      <th>epspi</th>\n      <th>gvkey</th>\n      <th>tic</th>\n      <th>fyr</th>\n      <th>act</th>\n      <th>at</th>\n      <th>csho</th>\n      <th>ebit</th>\n      <th>ppegt</th>\n      <th>sale</th>\n      <th>txt</th>\n      <th>xad</th>\n      <th>xrd</th>\n      <th>cik</th>\n      <th>ipodate</th>\n    </tr>\n  </thead>\n  <tbody>\n    <tr>\n      <th>0</th>\n      <td>10002</td>\n      <td>1993</td>\n      <td>BANCTRUST FINANCIAL GRP INC</td>\n      <td>4.638</td>\n      <td>24.158</td>\n      <td>3.391</td>\n      <td>0.662484</td>\n      <td>6020</td>\n      <td>Banks, Insurance Companies, and Other Financials</td>\n      <td>Banking</td>\n      <td>0.0</td>\n      <td>0.000</td>\n      <td>0.79</td>\n      <td>1.13</td>\n      <td>19049</td>\n      <td>BTFG</td>\n      <td>12</td>\n      <td>NaN</td>\n      <td>218.704</td>\n      <td>2.999</td>\n      <td>5.640</td>\n      <td>NaN</td>\n      <td>15.842</td>\n      <td>1.263</td>\n      <td>0.000</td>\n      <td>NaN</td>\n      <td>783739.0</td>\n      <td>NaN</td>\n    </tr>\n    <tr>\n      <th>1</th>\n      <td>10002</td>\n      <td>1994</td>\n      <td>BANCTRUST FINANCIAL GRP INC</td>\n      <td>5.381</td>\n      <td>26.104</td>\n      <td>2.782</td>\n      <td>0.679758</td>\n      <td>6020</td>\n      <td>Banks, Insurance Companies, and Other Financials</td>\n      <td>Banking</td>\n      <td>0.0</td>\n      <td>0.000</td>\n      <td>0.93</td>\n      <td>0.93</td>\n      <td>19049</td>\n      <td>BTFG</td>\n      <td>12</td>\n      <td>NaN</td>\n      <td>218.506</td>\n      <td>2.999</td>\n      <td>6.202</td>\n      <td>NaN</td>\n      <td>17.482</td>\n      <td>1.237</td>\n      <td>0.247</td>\n      <td>NaN</td>\n      <td>783739.0</td>\n      <td>NaN</td>\n    </tr>\n    <tr>\n      <th>2</th>\n      <td>10002</td>\n      <td>1995</td>\n      <td>BANCTRUST FINANCIAL GRP INC</td>\n      <td>5.931</td>\n      <td>28.797</td>\n      <td>3.007</td>\n      <td>0.698828</td>\n      <td>6020</td>\n      <td>Banks, Insurance Companies, and Other Financials</td>\n      <td>Banking</td>\n      <td>0.0</td>\n      <td>0.000</td>\n      <td>1.00</td>\n      <td>1.00</td>\n      <td>19049</td>\n      <td>BTFG</td>\n      <td>12</td>\n      <td>NaN</td>\n      <td>244.949</td>\n      <td>3.002</td>\n      <td>6.111</td>\n      <td>NaN</td>\n      <td>20.338</td>\n      <td>1.410</td>\n      <td>0.222</td>\n      <td>NaN</td>\n      <td>783739.0</td>\n      <td>NaN</td>\n    </tr>\n    <tr>\n      <th>3</th>\n      <td>10002</td>\n      <td>1996</td>\n      <td>BANCTRUST FINANCIAL GRP INC</td>\n      <td>6.549</td>\n      <td>47.088</td>\n      <td>3.354</td>\n      <td>0.719312</td>\n      <td>6020</td>\n      <td>Banks, Insurance Companies, and Other Financials</td>\n      <td>Banking</td>\n      <td>0.0</td>\n      <td>4.160</td>\n      <td>1.05</td>\n      <td>1.05</td>\n      <td>19049</td>\n      <td>BTFG</td>\n      <td>12</td>\n      <td>NaN</td>\n      <td>350.077</td>\n      <td>4.227</td>\n      <td>6.499</td>\n      <td>NaN</td>\n      <td>22.426</td>\n      <td>1.486</td>\n      <td>0.130</td>\n      <td>NaN</td>\n      <td>783739.0</td>\n      <td>NaN</td>\n    </tr>\n    <tr>\n      <th>4</th>\n      <td>10002</td>\n      <td>1997</td>\n      <td>BANCTRUST FINANCIAL GRP INC</td>\n      <td>7.882</td>\n      <td>45.462</td>\n      <td>4.728</td>\n      <td>0.736128</td>\n      <td>6020</td>\n      <td>Banks, Insurance Companies, and Other Financials</td>\n      <td>Banking</td>\n      <td>0.0</td>\n      <td>3.993</td>\n      <td>1.12</td>\n      <td>1.12</td>\n      <td>19049</td>\n      <td>BTFG</td>\n      <td>12</td>\n      <td>NaN</td>\n      <td>369.595</td>\n      <td>4.246</td>\n      <td>8.580</td>\n      <td>NaN</td>\n      <td>28.998</td>\n      <td>1.770</td>\n      <td>0.168</td>\n      <td>NaN</td>\n      <td>783739.0</td>\n      <td>NaN</td>\n    </tr>\n    <tr>\n      <th>...</th>\n      <td>...</td>\n      <td>...</td>\n      <td>...</td>\n      <td>...</td>\n      <td>...</td>\n      <td>...</td>\n      <td>...</td>\n      <td>...</td>\n      <td>...</td>\n      <td>...</td>\n      <td>...</td>\n      <td>...</td>\n      <td>...</td>\n      <td>...</td>\n      <td>...</td>\n      <td>...</td>\n      <td>...</td>\n      <td>...</td>\n      <td>...</td>\n      <td>...</td>\n      <td>...</td>\n      <td>...</td>\n      <td>...</td>\n      <td>...</td>\n      <td>...</td>\n      <td>...</td>\n      <td>...</td>\n      <td>...</td>\n    </tr>\n    <tr>\n      <th>72730</th>\n      <td>93432</td>\n      <td>2010</td>\n      <td>JIANGBO PHARMACEUTICALS INC</td>\n      <td>21.221</td>\n      <td>134.517</td>\n      <td>29.850</td>\n      <td>1.000000</td>\n      <td>2834</td>\n      <td>Drugs, Soap, Prfums, Tobacco</td>\n      <td>Pharmaceutical Products</td>\n      <td>0.0</td>\n      <td>32.594</td>\n      <td>2.69</td>\n      <td>2.69</td>\n      <td>108753</td>\n      <td>JGBO</td>\n      <td>6</td>\n      <td>156.351</td>\n      <td>202.340</td>\n      <td>11.702</td>\n      <td>48.215</td>\n      <td>16.377</td>\n      <td>97.444</td>\n      <td>12.897</td>\n      <td>5.566</td>\n      <td>4.4</td>\n      <td>1091164.0</td>\n      <td>NaN</td>\n    </tr>\n    <tr>\n      <th>72731</th>\n      <td>93433</td>\n      <td>2015</td>\n      <td>VOLTARI CORP</td>\n      <td>4.790</td>\n      <td>-37.674</td>\n      <td>-6.622</td>\n      <td>1.086957</td>\n      <td>6512</td>\n      <td>Banks, Insurance Companies, and Other Financials</td>\n      <td>Real Estate</td>\n      <td>0.0</td>\n      <td>0.000</td>\n      <td>-1.40</td>\n      <td>-1.60</td>\n      <td>184994</td>\n      <td>VLTC</td>\n      <td>12</td>\n      <td>NaN</td>\n      <td>6.004</td>\n      <td>8.995</td>\n      <td>-4.935</td>\n      <td>4.414</td>\n      <td>0.049</td>\n      <td>0.000</td>\n      <td>NaN</td>\n      <td>NaN</td>\n      <td>1568319.0</td>\n      <td>18jun2010</td>\n    </tr>\n    <tr>\n      <th>72732</th>\n      <td>93433</td>\n      <td>2016</td>\n      <td>VOLTARI CORP</td>\n      <td>0.000</td>\n      <td>-47.696</td>\n      <td>-3.111</td>\n      <td>1.100670</td>\n      <td>6512</td>\n      <td>Banks, Insurance Companies, and Other Financials</td>\n      <td>Real Estate</td>\n      <td>0.0</td>\n      <td>0.000</td>\n      <td>-1.11</td>\n      <td>-1.11</td>\n      <td>184994</td>\n      <td>VLTC</td>\n      <td>12</td>\n      <td>NaN</td>\n      <td>7.250</td>\n      <td>8.995</td>\n      <td>-2.805</td>\n      <td>6.800</td>\n      <td>0.262</td>\n      <td>0.000</td>\n      <td>NaN</td>\n      <td>NaN</td>\n      <td>1568319.0</td>\n      <td>18jun2010</td>\n    </tr>\n    <tr>\n      <th>72733</th>\n      <td>93433</td>\n      <td>2017</td>\n      <td>VOLTARI CORP</td>\n      <td>0.000</td>\n      <td>-57.201</td>\n      <td>-1.902</td>\n      <td>1.124116</td>\n      <td>6512</td>\n      <td>Banks, Insurance Companies, and Other Financials</td>\n      <td>Real Estate</td>\n      <td>0.0</td>\n      <td>0.394</td>\n      <td>-1.06</td>\n      <td>-1.06</td>\n      <td>184994</td>\n      <td>VLTC</td>\n      <td>12</td>\n      <td>NaN</td>\n      <td>6.648</td>\n      <td>8.995</td>\n      <td>-1.699</td>\n      <td>6.170</td>\n      <td>0.322</td>\n      <td>0.000</td>\n      <td>NaN</td>\n      <td>NaN</td>\n      <td>1568319.0</td>\n      <td>18jun2010</td>\n    </tr>\n    <tr>\n      <th>72734</th>\n      <td>93433</td>\n      <td>2018</td>\n      <td>VOLTARI CORP</td>\n      <td>0.000</td>\n      <td>-67.146</td>\n      <td>-1.526</td>\n      <td>1.151573</td>\n      <td>6512</td>\n      <td>Banks, Insurance Companies, and Other Financials</td>\n      <td>Real Estate</td>\n      <td>0.0</td>\n      <td>1.283</td>\n      <td>-1.11</td>\n      <td>-1.11</td>\n      <td>184994</td>\n      <td>VLTC</td>\n      <td>12</td>\n      <td>NaN</td>\n      <td>23.494</td>\n      <td>8.995</td>\n      <td>-0.953</td>\n      <td>22.062</td>\n      <td>1.554</td>\n      <td>0.002</td>\n      <td>NaN</td>\n      <td>NaN</td>\n      <td>1568319.0</td>\n      <td>18jun2010</td>\n    </tr>\n  </tbody>\n</table>\n<p>72735 rows × 28 columns</p>\n</div>"
     },
     "execution_count": 31,
     "metadata": {},
     "output_type": "execute_result"
    }
   ],
   "source": [
    "compustat_indus"
   ],
   "metadata": {
    "collapsed": false,
    "ExecuteTime": {
     "end_time": "2024-03-16T07:07:03.228721100Z",
     "start_time": "2024-03-16T07:07:03.124137200Z"
    }
   },
   "id": "1b1e1fbca7be4603"
  },
  {
   "cell_type": "code",
   "execution_count": null,
   "outputs": [],
   "source": [],
   "metadata": {
    "collapsed": false
   },
   "id": "fc212c35899d19b6"
  }
 ],
 "metadata": {
  "kernelspec": {
   "display_name": "Python 3",
   "language": "python",
   "name": "python3"
  },
  "language_info": {
   "codemirror_mode": {
    "name": "ipython",
    "version": 2
   },
   "file_extension": ".py",
   "mimetype": "text/x-python",
   "name": "python",
   "nbconvert_exporter": "python",
   "pygments_lexer": "ipython2",
   "version": "2.7.6"
  }
 },
 "nbformat": 4,
 "nbformat_minor": 5
}
